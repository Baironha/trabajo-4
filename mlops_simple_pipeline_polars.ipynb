{
 "cells": [
  {
   "metadata": {},
   "cell_type": "markdown",
   "source": [
    "# Instalación de librerías\n",
    "\n",
    "La referencia del conjunto de datos se puede encontrar en: https://www.kaggle.com/datasets/uciml/breast-cancer-wisconsin-data?select=data.csv\n",
    "\n",
    "Antes utilizar: pip install scikit-learn polars matplotlib jupyter"
   ],
   "id": "1c82fc7d2a05178f"
  },
  {
   "metadata": {},
   "cell_type": "markdown",
   "source": [
    "Hola que tal\n",
    "\n",
    "## subtitulo"
   ],
   "id": "4245203dc95df264"
  },
  {
   "metadata": {
    "ExecuteTime": {
     "end_time": "2025-01-24T02:58:17.250504Z",
     "start_time": "2025-01-24T02:58:17.242741Z"
    }
   },
   "cell_type": "code",
   "source": [
    "import polars as pl\n",
    "from sklearn.model_selection import train_test_split\n",
    "from sklearn.preprocessing import StandardScaler\n",
    "from sklearn.pipeline import Pipeline\n",
    "from sklearn.linear_model import LogisticRegression\n",
    "from sklearn.model_selection import GridSearchCV\n",
    "from sklearn.metrics import classification_report, confusion_matrix, roc_curve, auc\n",
    "import matplotlib.pyplot as plt\n",
    "import joblib"
   ],
   "id": "initial_id",
   "outputs": [],
   "execution_count": 21
  },
  {
   "metadata": {},
   "cell_type": "markdown",
   "source": "# Leer el dataset",
   "id": "37407c04683a2372"
  },
  {
   "metadata": {
    "ExecuteTime": {
     "end_time": "2025-01-24T02:58:17.840367Z",
     "start_time": "2025-01-24T02:58:17.832467Z"
    }
   },
   "cell_type": "code",
   "source": [
    "file_path = 'breast_cancer_wisconsin.csv'\n",
    "df = pl.read_csv(file_path)"
   ],
   "id": "471ccd7f3bde2676",
   "outputs": [],
   "execution_count": 22
  },
  {
   "metadata": {},
   "cell_type": "markdown",
   "source": [
    "# Preprocesamiento\n",
    "\n",
    "1. Eliminar columnas innecesarias\n",
    "2. Codificar de forma binaria la variable a predecir\n",
    "3. Separar características de entrenamiento\n",
    "4. Dividir el conjunto de datos de entrenamiento y prueba"
   ],
   "id": "869a6c53f8fab556"
  },
  {
   "metadata": {
    "ExecuteTime": {
     "end_time": "2025-01-24T02:58:49.122523Z",
     "start_time": "2025-01-24T02:58:49.113352Z"
    }
   },
   "cell_type": "code",
   "source": "df_cleaned = df.drop([\"id\"])",
   "id": "f0dcd415590bfd70",
   "outputs": [],
   "execution_count": 27
  },
  {
   "metadata": {
    "ExecuteTime": {
     "end_time": "2025-01-24T02:58:49.484265Z",
     "start_time": "2025-01-24T02:58:49.478516Z"
    }
   },
   "cell_type": "code",
   "source": "df_cleaned",
   "id": "d524aac74ffbd08e",
   "outputs": [
    {
     "data": {
      "text/plain": [
       "shape: (569, 32)\n",
       "┌───────────┬────────────┬────────────┬────────────┬───┬────────────┬───────────┬───────────┬──────┐\n",
       "│ diagnosis ┆ radius_mea ┆ texture_me ┆ perimeter_ ┆ … ┆ concave    ┆ symmetry_ ┆ fractal_d ┆      │\n",
       "│ ---       ┆ n          ┆ an         ┆ mean       ┆   ┆ points_wor ┆ worst     ┆ imension_ ┆ ---  │\n",
       "│ str       ┆ ---        ┆ ---        ┆ ---        ┆   ┆ st         ┆ ---       ┆ worst     ┆ str  │\n",
       "│           ┆ f64        ┆ f64        ┆ f64        ┆   ┆ ---        ┆ f64       ┆ ---       ┆      │\n",
       "│           ┆            ┆            ┆            ┆   ┆ f64        ┆           ┆ f64       ┆      │\n",
       "╞═══════════╪════════════╪════════════╪════════════╪═══╪════════════╪═══════════╪═══════════╪══════╡\n",
       "│ M         ┆ 17.99      ┆ 10.38      ┆ 122.8      ┆ … ┆ 0.2654     ┆ 0.4601    ┆ 0.1189    ┆ null │\n",
       "│ M         ┆ 20.57      ┆ 17.77      ┆ 132.9      ┆ … ┆ 0.186      ┆ 0.275     ┆ 0.08902   ┆ null │\n",
       "│ M         ┆ 19.69      ┆ 21.25      ┆ 130.0      ┆ … ┆ 0.243      ┆ 0.3613    ┆ 0.08758   ┆ null │\n",
       "│ M         ┆ 11.42      ┆ 20.38      ┆ 77.58      ┆ … ┆ 0.2575     ┆ 0.6638    ┆ 0.173     ┆ null │\n",
       "│ M         ┆ 20.29      ┆ 14.34      ┆ 135.1      ┆ … ┆ 0.1625     ┆ 0.2364    ┆ 0.07678   ┆ null │\n",
       "│ …         ┆ …          ┆ …          ┆ …          ┆ … ┆ …          ┆ …         ┆ …         ┆ …    │\n",
       "│ M         ┆ 21.56      ┆ 22.39      ┆ 142.0      ┆ … ┆ 0.2216     ┆ 0.206     ┆ 0.07115   ┆ null │\n",
       "│ M         ┆ 20.13      ┆ 28.25      ┆ 131.2      ┆ … ┆ 0.1628     ┆ 0.2572    ┆ 0.06637   ┆ null │\n",
       "│ M         ┆ 16.6       ┆ 28.08      ┆ 108.3      ┆ … ┆ 0.1418     ┆ 0.2218    ┆ 0.0782    ┆ null │\n",
       "│ M         ┆ 20.6       ┆ 29.33      ┆ 140.1      ┆ … ┆ 0.265      ┆ 0.4087    ┆ 0.124     ┆ null │\n",
       "│ B         ┆ 7.76       ┆ 24.54      ┆ 47.92      ┆ … ┆ 0.0        ┆ 0.2871    ┆ 0.07039   ┆ null │\n",
       "└───────────┴────────────┴────────────┴────────────┴───┴────────────┴───────────┴───────────┴──────┘"
      ],
      "text/html": [
       "<div><style>\n",
       ".dataframe > thead > tr,\n",
       ".dataframe > tbody > tr {\n",
       "  text-align: right;\n",
       "  white-space: pre-wrap;\n",
       "}\n",
       "</style>\n",
       "<small>shape: (569, 32)</small><table border=\"1\" class=\"dataframe\"><thead><tr><th>diagnosis</th><th>radius_mean</th><th>texture_mean</th><th>perimeter_mean</th><th>area_mean</th><th>smoothness_mean</th><th>compactness_mean</th><th>concavity_mean</th><th>concave points_mean</th><th>symmetry_mean</th><th>fractal_dimension_mean</th><th>radius_se</th><th>texture_se</th><th>perimeter_se</th><th>area_se</th><th>smoothness_se</th><th>compactness_se</th><th>concavity_se</th><th>concave points_se</th><th>symmetry_se</th><th>fractal_dimension_se</th><th>radius_worst</th><th>texture_worst</th><th>perimeter_worst</th><th>area_worst</th><th>smoothness_worst</th><th>compactness_worst</th><th>concavity_worst</th><th>concave points_worst</th><th>symmetry_worst</th><th>fractal_dimension_worst</th><th></th></tr><tr><td>str</td><td>f64</td><td>f64</td><td>f64</td><td>f64</td><td>f64</td><td>f64</td><td>f64</td><td>f64</td><td>f64</td><td>f64</td><td>f64</td><td>f64</td><td>f64</td><td>f64</td><td>f64</td><td>f64</td><td>f64</td><td>f64</td><td>f64</td><td>f64</td><td>f64</td><td>f64</td><td>f64</td><td>f64</td><td>f64</td><td>f64</td><td>f64</td><td>f64</td><td>f64</td><td>f64</td><td>str</td></tr></thead><tbody><tr><td>&quot;M&quot;</td><td>17.99</td><td>10.38</td><td>122.8</td><td>1001.0</td><td>0.1184</td><td>0.2776</td><td>0.3001</td><td>0.1471</td><td>0.2419</td><td>0.07871</td><td>1.095</td><td>0.9053</td><td>8.589</td><td>153.4</td><td>0.006399</td><td>0.04904</td><td>0.05373</td><td>0.01587</td><td>0.03003</td><td>0.006193</td><td>25.38</td><td>17.33</td><td>184.6</td><td>2019.0</td><td>0.1622</td><td>0.6656</td><td>0.7119</td><td>0.2654</td><td>0.4601</td><td>0.1189</td><td>null</td></tr><tr><td>&quot;M&quot;</td><td>20.57</td><td>17.77</td><td>132.9</td><td>1326.0</td><td>0.08474</td><td>0.07864</td><td>0.0869</td><td>0.07017</td><td>0.1812</td><td>0.05667</td><td>0.5435</td><td>0.7339</td><td>3.398</td><td>74.08</td><td>0.005225</td><td>0.01308</td><td>0.0186</td><td>0.0134</td><td>0.01389</td><td>0.003532</td><td>24.99</td><td>23.41</td><td>158.8</td><td>1956.0</td><td>0.1238</td><td>0.1866</td><td>0.2416</td><td>0.186</td><td>0.275</td><td>0.08902</td><td>null</td></tr><tr><td>&quot;M&quot;</td><td>19.69</td><td>21.25</td><td>130.0</td><td>1203.0</td><td>0.1096</td><td>0.1599</td><td>0.1974</td><td>0.1279</td><td>0.2069</td><td>0.05999</td><td>0.7456</td><td>0.7869</td><td>4.585</td><td>94.03</td><td>0.00615</td><td>0.04006</td><td>0.03832</td><td>0.02058</td><td>0.0225</td><td>0.004571</td><td>23.57</td><td>25.53</td><td>152.5</td><td>1709.0</td><td>0.1444</td><td>0.4245</td><td>0.4504</td><td>0.243</td><td>0.3613</td><td>0.08758</td><td>null</td></tr><tr><td>&quot;M&quot;</td><td>11.42</td><td>20.38</td><td>77.58</td><td>386.1</td><td>0.1425</td><td>0.2839</td><td>0.2414</td><td>0.1052</td><td>0.2597</td><td>0.09744</td><td>0.4956</td><td>1.156</td><td>3.445</td><td>27.23</td><td>0.00911</td><td>0.07458</td><td>0.05661</td><td>0.01867</td><td>0.05963</td><td>0.009208</td><td>14.91</td><td>26.5</td><td>98.87</td><td>567.7</td><td>0.2098</td><td>0.8663</td><td>0.6869</td><td>0.2575</td><td>0.6638</td><td>0.173</td><td>null</td></tr><tr><td>&quot;M&quot;</td><td>20.29</td><td>14.34</td><td>135.1</td><td>1297.0</td><td>0.1003</td><td>0.1328</td><td>0.198</td><td>0.1043</td><td>0.1809</td><td>0.05883</td><td>0.7572</td><td>0.7813</td><td>5.438</td><td>94.44</td><td>0.01149</td><td>0.02461</td><td>0.05688</td><td>0.01885</td><td>0.01756</td><td>0.005115</td><td>22.54</td><td>16.67</td><td>152.2</td><td>1575.0</td><td>0.1374</td><td>0.205</td><td>0.4</td><td>0.1625</td><td>0.2364</td><td>0.07678</td><td>null</td></tr><tr><td>&hellip;</td><td>&hellip;</td><td>&hellip;</td><td>&hellip;</td><td>&hellip;</td><td>&hellip;</td><td>&hellip;</td><td>&hellip;</td><td>&hellip;</td><td>&hellip;</td><td>&hellip;</td><td>&hellip;</td><td>&hellip;</td><td>&hellip;</td><td>&hellip;</td><td>&hellip;</td><td>&hellip;</td><td>&hellip;</td><td>&hellip;</td><td>&hellip;</td><td>&hellip;</td><td>&hellip;</td><td>&hellip;</td><td>&hellip;</td><td>&hellip;</td><td>&hellip;</td><td>&hellip;</td><td>&hellip;</td><td>&hellip;</td><td>&hellip;</td><td>&hellip;</td><td>&hellip;</td></tr><tr><td>&quot;M&quot;</td><td>21.56</td><td>22.39</td><td>142.0</td><td>1479.0</td><td>0.111</td><td>0.1159</td><td>0.2439</td><td>0.1389</td><td>0.1726</td><td>0.05623</td><td>1.176</td><td>1.256</td><td>7.673</td><td>158.7</td><td>0.0103</td><td>0.02891</td><td>0.05198</td><td>0.02454</td><td>0.01114</td><td>0.004239</td><td>25.45</td><td>26.4</td><td>166.1</td><td>2027.0</td><td>0.141</td><td>0.2113</td><td>0.4107</td><td>0.2216</td><td>0.206</td><td>0.07115</td><td>null</td></tr><tr><td>&quot;M&quot;</td><td>20.13</td><td>28.25</td><td>131.2</td><td>1261.0</td><td>0.0978</td><td>0.1034</td><td>0.144</td><td>0.09791</td><td>0.1752</td><td>0.05533</td><td>0.7655</td><td>2.463</td><td>5.203</td><td>99.04</td><td>0.005769</td><td>0.02423</td><td>0.0395</td><td>0.01678</td><td>0.01898</td><td>0.002498</td><td>23.69</td><td>38.25</td><td>155.0</td><td>1731.0</td><td>0.1166</td><td>0.1922</td><td>0.3215</td><td>0.1628</td><td>0.2572</td><td>0.06637</td><td>null</td></tr><tr><td>&quot;M&quot;</td><td>16.6</td><td>28.08</td><td>108.3</td><td>858.1</td><td>0.08455</td><td>0.1023</td><td>0.09251</td><td>0.05302</td><td>0.159</td><td>0.05648</td><td>0.4564</td><td>1.075</td><td>3.425</td><td>48.55</td><td>0.005903</td><td>0.03731</td><td>0.0473</td><td>0.01557</td><td>0.01318</td><td>0.003892</td><td>18.98</td><td>34.12</td><td>126.7</td><td>1124.0</td><td>0.1139</td><td>0.3094</td><td>0.3403</td><td>0.1418</td><td>0.2218</td><td>0.0782</td><td>null</td></tr><tr><td>&quot;M&quot;</td><td>20.6</td><td>29.33</td><td>140.1</td><td>1265.0</td><td>0.1178</td><td>0.277</td><td>0.3514</td><td>0.152</td><td>0.2397</td><td>0.07016</td><td>0.726</td><td>1.595</td><td>5.772</td><td>86.22</td><td>0.006522</td><td>0.06158</td><td>0.07117</td><td>0.01664</td><td>0.02324</td><td>0.006185</td><td>25.74</td><td>39.42</td><td>184.6</td><td>1821.0</td><td>0.165</td><td>0.8681</td><td>0.9387</td><td>0.265</td><td>0.4087</td><td>0.124</td><td>null</td></tr><tr><td>&quot;B&quot;</td><td>7.76</td><td>24.54</td><td>47.92</td><td>181.0</td><td>0.05263</td><td>0.04362</td><td>0.0</td><td>0.0</td><td>0.1587</td><td>0.05884</td><td>0.3857</td><td>1.428</td><td>2.548</td><td>19.15</td><td>0.007189</td><td>0.00466</td><td>0.0</td><td>0.0</td><td>0.02676</td><td>0.002783</td><td>9.456</td><td>30.37</td><td>59.16</td><td>268.6</td><td>0.08996</td><td>0.06444</td><td>0.0</td><td>0.0</td><td>0.2871</td><td>0.07039</td><td>null</td></tr></tbody></table></div>"
      ]
     },
     "execution_count": 28,
     "metadata": {},
     "output_type": "execute_result"
    }
   ],
   "execution_count": 28
  },
  {
   "metadata": {
    "ExecuteTime": {
     "end_time": "2025-01-24T03:02:16.397200Z",
     "start_time": "2025-01-24T03:02:16.382625Z"
    }
   },
   "cell_type": "code",
   "source": [
    "df_cleaned = df.with_columns(\n",
    "    (pl.col(\"diagnosis\") == \"M\").cast(pl.Int8).alias(\"diagnosis\")\n",
    ")"
   ],
   "id": "d721f1f84db11944",
   "outputs": [],
   "execution_count": 29
  },
  {
   "metadata": {
    "ExecuteTime": {
     "end_time": "2025-01-24T03:02:16.976218Z",
     "start_time": "2025-01-24T03:02:16.971860Z"
    }
   },
   "cell_type": "code",
   "source": [
    "unnamed_columns = [col for col in df_cleaned.columns if col == \"\"]\n",
    "df_cleaned = df_cleaned.drop(unnamed_columns)"
   ],
   "id": "1554346c3c614623",
   "outputs": [],
   "execution_count": 30
  },
  {
   "metadata": {
    "ExecuteTime": {
     "end_time": "2025-01-24T03:04:04.487727Z",
     "start_time": "2025-01-24T03:04:04.473194Z"
    }
   },
   "cell_type": "code",
   "source": [
    "X = df_cleaned.drop([\"diagnosis\"])\n",
    "y = df_cleaned[\"diagnosis\"]"
   ],
   "id": "7b417e244709666",
   "outputs": [],
   "execution_count": 31
  },
  {
   "metadata": {
    "ExecuteTime": {
     "end_time": "2025-01-24T03:16:31.132412Z",
     "start_time": "2025-01-24T03:16:31.106752Z"
    }
   },
   "cell_type": "code",
   "source": "X_train, X_test, y_train, y_test = train_test_split(X, y, test_size=0.2, random_state=42, stratify=y)",
   "id": "8042a860bd0cf224",
   "outputs": [],
   "execution_count": 38
  },
  {
   "metadata": {
    "ExecuteTime": {
     "end_time": "2025-01-24T03:16:32.501961Z",
     "start_time": "2025-01-24T03:16:32.496180Z"
    }
   },
   "cell_type": "code",
   "source": "X_train",
   "id": "62a8617f2a38066f",
   "outputs": [
    {
     "data": {
      "text/plain": [
       "shape: (455, 31)\n",
       "┌──────────┬───────────┬───────────┬───────────┬───┬───────────┬───────────┬───────────┬───────────┐\n",
       "│ id       ┆ radius_me ┆ texture_m ┆ perimeter ┆ … ┆ concavity ┆ concave   ┆ symmetry_ ┆ fractal_d │\n",
       "│ ---      ┆ an        ┆ ean       ┆ _mean     ┆   ┆ _worst    ┆ points_wo ┆ worst     ┆ imension_ │\n",
       "│ i64      ┆ ---       ┆ ---       ┆ ---       ┆   ┆ ---       ┆ rst       ┆ ---       ┆ worst     │\n",
       "│          ┆ f64       ┆ f64       ┆ f64       ┆   ┆ f64       ┆ ---       ┆ f64       ┆ ---       │\n",
       "│          ┆           ┆           ┆           ┆   ┆           ┆ f64       ┆           ┆ f64       │\n",
       "╞══════════╪═══════════╪═══════════╪═══════════╪═══╪═══════════╪═══════════╪═══════════╪═══════════╡\n",
       "│ 845636   ┆ 16.02     ┆ 23.24     ┆ 102.7     ┆ … ┆ 0.1459    ┆ 0.09975   ┆ 0.2948    ┆ 0.08452   │\n",
       "│ 87139402 ┆ 12.32     ┆ 12.39     ┆ 78.85     ┆ … ┆ 0.1242    ┆ 0.09391   ┆ 0.2827    ┆ 0.06771   │\n",
       "│ 905190   ┆ 12.85     ┆ 21.37     ┆ 82.63     ┆ … ┆ 0.1838    ┆ 0.05601   ┆ 0.2488    ┆ 0.08151   │\n",
       "│ 907914   ┆ 14.9      ┆ 22.53     ┆ 102.1     ┆ … ┆ 0.9019    ┆ 0.2475    ┆ 0.2866    ┆ 0.1155    │\n",
       "│ 852781   ┆ 18.61     ┆ 20.25     ┆ 122.1     ┆ … ┆ 0.3446    ┆ 0.149     ┆ 0.2341    ┆ 0.07421   │\n",
       "│ …        ┆ …         ┆ …         ┆ …         ┆ … ┆ …         ┆ …         ┆ …         ┆ …         │\n",
       "│ 854941   ┆ 13.03     ┆ 18.42     ┆ 82.61     ┆ … ┆ 0.04833   ┆ 0.05013   ┆ 0.1987    ┆ 0.06169   │\n",
       "│ 905686   ┆ 11.89     ┆ 21.17     ┆ 76.39     ┆ … ┆ 0.1164    ┆ 0.08263   ┆ 0.3075    ┆ 0.07351   │\n",
       "│ 9112594  ┆ 13.0      ┆ 25.13     ┆ 82.61     ┆ … ┆ 0.04462   ┆ 0.05921   ┆ 0.2306    ┆ 0.06291   │\n",
       "│ 911654   ┆ 14.2      ┆ 20.53     ┆ 92.41     ┆ … ┆ 0.2512    ┆ 0.1339    ┆ 0.2534    ┆ 0.07858   │\n",
       "│ 89742801 ┆ 17.06     ┆ 21.0      ┆ 111.8     ┆ … ┆ 0.392     ┆ 0.1827    ┆ 0.2623    ┆ 0.07599   │\n",
       "└──────────┴───────────┴───────────┴───────────┴───┴───────────┴───────────┴───────────┴───────────┘"
      ],
      "text/html": [
       "<div><style>\n",
       ".dataframe > thead > tr,\n",
       ".dataframe > tbody > tr {\n",
       "  text-align: right;\n",
       "  white-space: pre-wrap;\n",
       "}\n",
       "</style>\n",
       "<small>shape: (455, 31)</small><table border=\"1\" class=\"dataframe\"><thead><tr><th>id</th><th>radius_mean</th><th>texture_mean</th><th>perimeter_mean</th><th>area_mean</th><th>smoothness_mean</th><th>compactness_mean</th><th>concavity_mean</th><th>concave points_mean</th><th>symmetry_mean</th><th>fractal_dimension_mean</th><th>radius_se</th><th>texture_se</th><th>perimeter_se</th><th>area_se</th><th>smoothness_se</th><th>compactness_se</th><th>concavity_se</th><th>concave points_se</th><th>symmetry_se</th><th>fractal_dimension_se</th><th>radius_worst</th><th>texture_worst</th><th>perimeter_worst</th><th>area_worst</th><th>smoothness_worst</th><th>compactness_worst</th><th>concavity_worst</th><th>concave points_worst</th><th>symmetry_worst</th><th>fractal_dimension_worst</th></tr><tr><td>i64</td><td>f64</td><td>f64</td><td>f64</td><td>f64</td><td>f64</td><td>f64</td><td>f64</td><td>f64</td><td>f64</td><td>f64</td><td>f64</td><td>f64</td><td>f64</td><td>f64</td><td>f64</td><td>f64</td><td>f64</td><td>f64</td><td>f64</td><td>f64</td><td>f64</td><td>f64</td><td>f64</td><td>f64</td><td>f64</td><td>f64</td><td>f64</td><td>f64</td><td>f64</td><td>f64</td></tr></thead><tbody><tr><td>845636</td><td>16.02</td><td>23.24</td><td>102.7</td><td>797.8</td><td>0.08206</td><td>0.06669</td><td>0.03299</td><td>0.03323</td><td>0.1528</td><td>0.05697</td><td>0.3795</td><td>1.187</td><td>2.466</td><td>40.51</td><td>0.004029</td><td>0.009269</td><td>0.01101</td><td>0.007591</td><td>0.0146</td><td>0.003042</td><td>19.19</td><td>33.88</td><td>123.8</td><td>1150.0</td><td>0.1181</td><td>0.1551</td><td>0.1459</td><td>0.09975</td><td>0.2948</td><td>0.08452</td></tr><tr><td>87139402</td><td>12.32</td><td>12.39</td><td>78.85</td><td>464.1</td><td>0.1028</td><td>0.06981</td><td>0.03987</td><td>0.037</td><td>0.1959</td><td>0.05955</td><td>0.236</td><td>0.6656</td><td>1.67</td><td>17.43</td><td>0.008045</td><td>0.0118</td><td>0.01683</td><td>0.01241</td><td>0.01924</td><td>0.002248</td><td>13.5</td><td>15.64</td><td>86.97</td><td>549.1</td><td>0.1385</td><td>0.1266</td><td>0.1242</td><td>0.09391</td><td>0.2827</td><td>0.06771</td></tr><tr><td>905190</td><td>12.85</td><td>21.37</td><td>82.63</td><td>514.5</td><td>0.07551</td><td>0.08316</td><td>0.06126</td><td>0.01867</td><td>0.158</td><td>0.06114</td><td>0.4993</td><td>1.798</td><td>2.552</td><td>41.24</td><td>0.006011</td><td>0.0448</td><td>0.05175</td><td>0.01341</td><td>0.02669</td><td>0.007731</td><td>14.4</td><td>27.01</td><td>91.63</td><td>645.8</td><td>0.09402</td><td>0.1936</td><td>0.1838</td><td>0.05601</td><td>0.2488</td><td>0.08151</td></tr><tr><td>907914</td><td>14.9</td><td>22.53</td><td>102.1</td><td>685.0</td><td>0.09947</td><td>0.2225</td><td>0.2733</td><td>0.09711</td><td>0.2041</td><td>0.06898</td><td>0.253</td><td>0.8749</td><td>3.466</td><td>24.19</td><td>0.006965</td><td>0.06213</td><td>0.07926</td><td>0.02234</td><td>0.01499</td><td>0.005784</td><td>16.35</td><td>27.57</td><td>125.4</td><td>832.7</td><td>0.1419</td><td>0.709</td><td>0.9019</td><td>0.2475</td><td>0.2866</td><td>0.1155</td></tr><tr><td>852781</td><td>18.61</td><td>20.25</td><td>122.1</td><td>1094.0</td><td>0.0944</td><td>0.1066</td><td>0.149</td><td>0.07731</td><td>0.1697</td><td>0.05699</td><td>0.8529</td><td>1.849</td><td>5.632</td><td>93.54</td><td>0.01075</td><td>0.02722</td><td>0.05081</td><td>0.01911</td><td>0.02293</td><td>0.004217</td><td>21.31</td><td>27.26</td><td>139.9</td><td>1403.0</td><td>0.1338</td><td>0.2117</td><td>0.3446</td><td>0.149</td><td>0.2341</td><td>0.07421</td></tr><tr><td>&hellip;</td><td>&hellip;</td><td>&hellip;</td><td>&hellip;</td><td>&hellip;</td><td>&hellip;</td><td>&hellip;</td><td>&hellip;</td><td>&hellip;</td><td>&hellip;</td><td>&hellip;</td><td>&hellip;</td><td>&hellip;</td><td>&hellip;</td><td>&hellip;</td><td>&hellip;</td><td>&hellip;</td><td>&hellip;</td><td>&hellip;</td><td>&hellip;</td><td>&hellip;</td><td>&hellip;</td><td>&hellip;</td><td>&hellip;</td><td>&hellip;</td><td>&hellip;</td><td>&hellip;</td><td>&hellip;</td><td>&hellip;</td><td>&hellip;</td><td>&hellip;</td></tr><tr><td>854941</td><td>13.03</td><td>18.42</td><td>82.61</td><td>523.8</td><td>0.08983</td><td>0.03766</td><td>0.02562</td><td>0.02923</td><td>0.1467</td><td>0.05863</td><td>0.1839</td><td>2.342</td><td>1.17</td><td>14.16</td><td>0.004352</td><td>0.004899</td><td>0.01343</td><td>0.01164</td><td>0.02671</td><td>0.001777</td><td>13.3</td><td>22.81</td><td>84.46</td><td>545.9</td><td>0.09701</td><td>0.04619</td><td>0.04833</td><td>0.05013</td><td>0.1987</td><td>0.06169</td></tr><tr><td>905686</td><td>11.89</td><td>21.17</td><td>76.39</td><td>433.8</td><td>0.09773</td><td>0.0812</td><td>0.02555</td><td>0.02179</td><td>0.2019</td><td>0.0629</td><td>0.2747</td><td>1.203</td><td>1.93</td><td>19.53</td><td>0.009895</td><td>0.03053</td><td>0.0163</td><td>0.009276</td><td>0.02258</td><td>0.002272</td><td>13.05</td><td>27.21</td><td>85.09</td><td>522.9</td><td>0.1426</td><td>0.2187</td><td>0.1164</td><td>0.08263</td><td>0.3075</td><td>0.07351</td></tr><tr><td>9112594</td><td>13.0</td><td>25.13</td><td>82.61</td><td>520.2</td><td>0.08369</td><td>0.05073</td><td>0.01206</td><td>0.01762</td><td>0.1667</td><td>0.05449</td><td>0.2621</td><td>1.232</td><td>1.657</td><td>21.19</td><td>0.006054</td><td>0.008974</td><td>0.005681</td><td>0.006336</td><td>0.01215</td><td>0.001514</td><td>14.34</td><td>31.88</td><td>91.06</td><td>628.5</td><td>0.1218</td><td>0.1093</td><td>0.04462</td><td>0.05921</td><td>0.2306</td><td>0.06291</td></tr><tr><td>911654</td><td>14.2</td><td>20.53</td><td>92.41</td><td>618.4</td><td>0.08931</td><td>0.1108</td><td>0.05063</td><td>0.03058</td><td>0.1506</td><td>0.06009</td><td>0.3478</td><td>1.018</td><td>2.749</td><td>31.01</td><td>0.004107</td><td>0.03288</td><td>0.02821</td><td>0.0135</td><td>0.0161</td><td>0.002744</td><td>16.45</td><td>27.26</td><td>112.1</td><td>828.5</td><td>0.1153</td><td>0.3429</td><td>0.2512</td><td>0.1339</td><td>0.2534</td><td>0.07858</td></tr><tr><td>89742801</td><td>17.06</td><td>21.0</td><td>111.8</td><td>918.6</td><td>0.1119</td><td>0.1056</td><td>0.1508</td><td>0.09934</td><td>0.1727</td><td>0.06071</td><td>0.8161</td><td>2.129</td><td>6.076</td><td>87.17</td><td>0.006455</td><td>0.01797</td><td>0.04502</td><td>0.01744</td><td>0.01829</td><td>0.003733</td><td>20.99</td><td>33.15</td><td>143.2</td><td>1362.0</td><td>0.1449</td><td>0.2053</td><td>0.392</td><td>0.1827</td><td>0.2623</td><td>0.07599</td></tr></tbody></table></div>"
      ]
     },
     "execution_count": 39,
     "metadata": {},
     "output_type": "execute_result"
    }
   ],
   "execution_count": 39
  },
  {
   "metadata": {},
   "cell_type": "markdown",
   "source": [
    "# Pipeline de ejecución\n",
    "\n",
    "1. Pipeline de ejecución con un escalado de datos iniciar y aplicar el algoritmo de regresión logística\n",
    "2. Declarar hiperparámetros\n",
    "3. Declarar búsqueda óptima"
   ],
   "id": "c5a44db1513fc9ec"
  },
  {
   "metadata": {
    "ExecuteTime": {
     "end_time": "2025-01-24T03:16:34.236295Z",
     "start_time": "2025-01-24T03:16:34.233876Z"
    }
   },
   "cell_type": "code",
   "source": [
    "pipeline = Pipeline([\n",
    "    (\"scaler\", StandardScaler()),\n",
    "    (\"logistic\", LogisticRegression(max_iter=1000))\n",
    "])"
   ],
   "id": "8724fd71ee18f150",
   "outputs": [],
   "execution_count": 40
  },
  {
   "metadata": {
    "ExecuteTime": {
     "end_time": "2025-01-24T03:16:34.854132Z",
     "start_time": "2025-01-24T03:16:34.851055Z"
    }
   },
   "cell_type": "code",
   "source": [
    "param_grid = {\n",
    "    \"logistic__C\": [0.1, 1, 10, 100],\n",
    "    \"logistic__solver\": [\"liblinear\", \"lbfgs\"]\n",
    "}"
   ],
   "id": "e466e8449533cd45",
   "outputs": [],
   "execution_count": 41
  },
  {
   "metadata": {
    "ExecuteTime": {
     "end_time": "2025-01-24T03:16:35.456455Z",
     "start_time": "2025-01-24T03:16:35.272323Z"
    }
   },
   "cell_type": "code",
   "source": [
    "grid_search = GridSearchCV(pipeline, param_grid, cv=5, scoring=\"accuracy\")\n",
    "grid_search.fit(X_train, y_train)"
   ],
   "id": "b07f168012554ce8",
   "outputs": [
    {
     "data": {
      "text/plain": [
       "GridSearchCV(cv=5,\n",
       "             estimator=Pipeline(steps=[('scaler', StandardScaler()),\n",
       "                                       ('logistic',\n",
       "                                        LogisticRegression(max_iter=1000))]),\n",
       "             param_grid={'logistic__C': [0.1, 1, 10, 100],\n",
       "                         'logistic__solver': ['liblinear', 'lbfgs']},\n",
       "             scoring='accuracy')"
      ],
      "text/html": [
       "<style>#sk-container-id-1 {\n",
       "  /* Definition of color scheme common for light and dark mode */\n",
       "  --sklearn-color-text: #000;\n",
       "  --sklearn-color-text-muted: #666;\n",
       "  --sklearn-color-line: gray;\n",
       "  /* Definition of color scheme for unfitted estimators */\n",
       "  --sklearn-color-unfitted-level-0: #fff5e6;\n",
       "  --sklearn-color-unfitted-level-1: #f6e4d2;\n",
       "  --sklearn-color-unfitted-level-2: #ffe0b3;\n",
       "  --sklearn-color-unfitted-level-3: chocolate;\n",
       "  /* Definition of color scheme for fitted estimators */\n",
       "  --sklearn-color-fitted-level-0: #f0f8ff;\n",
       "  --sklearn-color-fitted-level-1: #d4ebff;\n",
       "  --sklearn-color-fitted-level-2: #b3dbfd;\n",
       "  --sklearn-color-fitted-level-3: cornflowerblue;\n",
       "\n",
       "  /* Specific color for light theme */\n",
       "  --sklearn-color-text-on-default-background: var(--sg-text-color, var(--theme-code-foreground, var(--jp-content-font-color1, black)));\n",
       "  --sklearn-color-background: var(--sg-background-color, var(--theme-background, var(--jp-layout-color0, white)));\n",
       "  --sklearn-color-border-box: var(--sg-text-color, var(--theme-code-foreground, var(--jp-content-font-color1, black)));\n",
       "  --sklearn-color-icon: #696969;\n",
       "\n",
       "  @media (prefers-color-scheme: dark) {\n",
       "    /* Redefinition of color scheme for dark theme */\n",
       "    --sklearn-color-text-on-default-background: var(--sg-text-color, var(--theme-code-foreground, var(--jp-content-font-color1, white)));\n",
       "    --sklearn-color-background: var(--sg-background-color, var(--theme-background, var(--jp-layout-color0, #111)));\n",
       "    --sklearn-color-border-box: var(--sg-text-color, var(--theme-code-foreground, var(--jp-content-font-color1, white)));\n",
       "    --sklearn-color-icon: #878787;\n",
       "  }\n",
       "}\n",
       "\n",
       "#sk-container-id-1 {\n",
       "  color: var(--sklearn-color-text);\n",
       "}\n",
       "\n",
       "#sk-container-id-1 pre {\n",
       "  padding: 0;\n",
       "}\n",
       "\n",
       "#sk-container-id-1 input.sk-hidden--visually {\n",
       "  border: 0;\n",
       "  clip: rect(1px 1px 1px 1px);\n",
       "  clip: rect(1px, 1px, 1px, 1px);\n",
       "  height: 1px;\n",
       "  margin: -1px;\n",
       "  overflow: hidden;\n",
       "  padding: 0;\n",
       "  position: absolute;\n",
       "  width: 1px;\n",
       "}\n",
       "\n",
       "#sk-container-id-1 div.sk-dashed-wrapped {\n",
       "  border: 1px dashed var(--sklearn-color-line);\n",
       "  margin: 0 0.4em 0.5em 0.4em;\n",
       "  box-sizing: border-box;\n",
       "  padding-bottom: 0.4em;\n",
       "  background-color: var(--sklearn-color-background);\n",
       "}\n",
       "\n",
       "#sk-container-id-1 div.sk-container {\n",
       "  /* jupyter's `normalize.less` sets `[hidden] { display: none; }`\n",
       "     but bootstrap.min.css set `[hidden] { display: none !important; }`\n",
       "     so we also need the `!important` here to be able to override the\n",
       "     default hidden behavior on the sphinx rendered scikit-learn.org.\n",
       "     See: https://github.com/scikit-learn/scikit-learn/issues/21755 */\n",
       "  display: inline-block !important;\n",
       "  position: relative;\n",
       "}\n",
       "\n",
       "#sk-container-id-1 div.sk-text-repr-fallback {\n",
       "  display: none;\n",
       "}\n",
       "\n",
       "div.sk-parallel-item,\n",
       "div.sk-serial,\n",
       "div.sk-item {\n",
       "  /* draw centered vertical line to link estimators */\n",
       "  background-image: linear-gradient(var(--sklearn-color-text-on-default-background), var(--sklearn-color-text-on-default-background));\n",
       "  background-size: 2px 100%;\n",
       "  background-repeat: no-repeat;\n",
       "  background-position: center center;\n",
       "}\n",
       "\n",
       "/* Parallel-specific style estimator block */\n",
       "\n",
       "#sk-container-id-1 div.sk-parallel-item::after {\n",
       "  content: \"\";\n",
       "  width: 100%;\n",
       "  border-bottom: 2px solid var(--sklearn-color-text-on-default-background);\n",
       "  flex-grow: 1;\n",
       "}\n",
       "\n",
       "#sk-container-id-1 div.sk-parallel {\n",
       "  display: flex;\n",
       "  align-items: stretch;\n",
       "  justify-content: center;\n",
       "  background-color: var(--sklearn-color-background);\n",
       "  position: relative;\n",
       "}\n",
       "\n",
       "#sk-container-id-1 div.sk-parallel-item {\n",
       "  display: flex;\n",
       "  flex-direction: column;\n",
       "}\n",
       "\n",
       "#sk-container-id-1 div.sk-parallel-item:first-child::after {\n",
       "  align-self: flex-end;\n",
       "  width: 50%;\n",
       "}\n",
       "\n",
       "#sk-container-id-1 div.sk-parallel-item:last-child::after {\n",
       "  align-self: flex-start;\n",
       "  width: 50%;\n",
       "}\n",
       "\n",
       "#sk-container-id-1 div.sk-parallel-item:only-child::after {\n",
       "  width: 0;\n",
       "}\n",
       "\n",
       "/* Serial-specific style estimator block */\n",
       "\n",
       "#sk-container-id-1 div.sk-serial {\n",
       "  display: flex;\n",
       "  flex-direction: column;\n",
       "  align-items: center;\n",
       "  background-color: var(--sklearn-color-background);\n",
       "  padding-right: 1em;\n",
       "  padding-left: 1em;\n",
       "}\n",
       "\n",
       "\n",
       "/* Toggleable style: style used for estimator/Pipeline/ColumnTransformer box that is\n",
       "clickable and can be expanded/collapsed.\n",
       "- Pipeline and ColumnTransformer use this feature and define the default style\n",
       "- Estimators will overwrite some part of the style using the `sk-estimator` class\n",
       "*/\n",
       "\n",
       "/* Pipeline and ColumnTransformer style (default) */\n",
       "\n",
       "#sk-container-id-1 div.sk-toggleable {\n",
       "  /* Default theme specific background. It is overwritten whether we have a\n",
       "  specific estimator or a Pipeline/ColumnTransformer */\n",
       "  background-color: var(--sklearn-color-background);\n",
       "}\n",
       "\n",
       "/* Toggleable label */\n",
       "#sk-container-id-1 label.sk-toggleable__label {\n",
       "  cursor: pointer;\n",
       "  display: flex;\n",
       "  width: 100%;\n",
       "  margin-bottom: 0;\n",
       "  padding: 0.5em;\n",
       "  box-sizing: border-box;\n",
       "  text-align: center;\n",
       "  align-items: start;\n",
       "  justify-content: space-between;\n",
       "  gap: 0.5em;\n",
       "}\n",
       "\n",
       "#sk-container-id-1 label.sk-toggleable__label .caption {\n",
       "  font-size: 0.6rem;\n",
       "  font-weight: lighter;\n",
       "  color: var(--sklearn-color-text-muted);\n",
       "}\n",
       "\n",
       "#sk-container-id-1 label.sk-toggleable__label-arrow:before {\n",
       "  /* Arrow on the left of the label */\n",
       "  content: \"▸\";\n",
       "  float: left;\n",
       "  margin-right: 0.25em;\n",
       "  color: var(--sklearn-color-icon);\n",
       "}\n",
       "\n",
       "#sk-container-id-1 label.sk-toggleable__label-arrow:hover:before {\n",
       "  color: var(--sklearn-color-text);\n",
       "}\n",
       "\n",
       "/* Toggleable content - dropdown */\n",
       "\n",
       "#sk-container-id-1 div.sk-toggleable__content {\n",
       "  max-height: 0;\n",
       "  max-width: 0;\n",
       "  overflow: hidden;\n",
       "  text-align: left;\n",
       "  /* unfitted */\n",
       "  background-color: var(--sklearn-color-unfitted-level-0);\n",
       "}\n",
       "\n",
       "#sk-container-id-1 div.sk-toggleable__content.fitted {\n",
       "  /* fitted */\n",
       "  background-color: var(--sklearn-color-fitted-level-0);\n",
       "}\n",
       "\n",
       "#sk-container-id-1 div.sk-toggleable__content pre {\n",
       "  margin: 0.2em;\n",
       "  border-radius: 0.25em;\n",
       "  color: var(--sklearn-color-text);\n",
       "  /* unfitted */\n",
       "  background-color: var(--sklearn-color-unfitted-level-0);\n",
       "}\n",
       "\n",
       "#sk-container-id-1 div.sk-toggleable__content.fitted pre {\n",
       "  /* unfitted */\n",
       "  background-color: var(--sklearn-color-fitted-level-0);\n",
       "}\n",
       "\n",
       "#sk-container-id-1 input.sk-toggleable__control:checked~div.sk-toggleable__content {\n",
       "  /* Expand drop-down */\n",
       "  max-height: 200px;\n",
       "  max-width: 100%;\n",
       "  overflow: auto;\n",
       "}\n",
       "\n",
       "#sk-container-id-1 input.sk-toggleable__control:checked~label.sk-toggleable__label-arrow:before {\n",
       "  content: \"▾\";\n",
       "}\n",
       "\n",
       "/* Pipeline/ColumnTransformer-specific style */\n",
       "\n",
       "#sk-container-id-1 div.sk-label input.sk-toggleable__control:checked~label.sk-toggleable__label {\n",
       "  color: var(--sklearn-color-text);\n",
       "  background-color: var(--sklearn-color-unfitted-level-2);\n",
       "}\n",
       "\n",
       "#sk-container-id-1 div.sk-label.fitted input.sk-toggleable__control:checked~label.sk-toggleable__label {\n",
       "  background-color: var(--sklearn-color-fitted-level-2);\n",
       "}\n",
       "\n",
       "/* Estimator-specific style */\n",
       "\n",
       "/* Colorize estimator box */\n",
       "#sk-container-id-1 div.sk-estimator input.sk-toggleable__control:checked~label.sk-toggleable__label {\n",
       "  /* unfitted */\n",
       "  background-color: var(--sklearn-color-unfitted-level-2);\n",
       "}\n",
       "\n",
       "#sk-container-id-1 div.sk-estimator.fitted input.sk-toggleable__control:checked~label.sk-toggleable__label {\n",
       "  /* fitted */\n",
       "  background-color: var(--sklearn-color-fitted-level-2);\n",
       "}\n",
       "\n",
       "#sk-container-id-1 div.sk-label label.sk-toggleable__label,\n",
       "#sk-container-id-1 div.sk-label label {\n",
       "  /* The background is the default theme color */\n",
       "  color: var(--sklearn-color-text-on-default-background);\n",
       "}\n",
       "\n",
       "/* On hover, darken the color of the background */\n",
       "#sk-container-id-1 div.sk-label:hover label.sk-toggleable__label {\n",
       "  color: var(--sklearn-color-text);\n",
       "  background-color: var(--sklearn-color-unfitted-level-2);\n",
       "}\n",
       "\n",
       "/* Label box, darken color on hover, fitted */\n",
       "#sk-container-id-1 div.sk-label.fitted:hover label.sk-toggleable__label.fitted {\n",
       "  color: var(--sklearn-color-text);\n",
       "  background-color: var(--sklearn-color-fitted-level-2);\n",
       "}\n",
       "\n",
       "/* Estimator label */\n",
       "\n",
       "#sk-container-id-1 div.sk-label label {\n",
       "  font-family: monospace;\n",
       "  font-weight: bold;\n",
       "  display: inline-block;\n",
       "  line-height: 1.2em;\n",
       "}\n",
       "\n",
       "#sk-container-id-1 div.sk-label-container {\n",
       "  text-align: center;\n",
       "}\n",
       "\n",
       "/* Estimator-specific */\n",
       "#sk-container-id-1 div.sk-estimator {\n",
       "  font-family: monospace;\n",
       "  border: 1px dotted var(--sklearn-color-border-box);\n",
       "  border-radius: 0.25em;\n",
       "  box-sizing: border-box;\n",
       "  margin-bottom: 0.5em;\n",
       "  /* unfitted */\n",
       "  background-color: var(--sklearn-color-unfitted-level-0);\n",
       "}\n",
       "\n",
       "#sk-container-id-1 div.sk-estimator.fitted {\n",
       "  /* fitted */\n",
       "  background-color: var(--sklearn-color-fitted-level-0);\n",
       "}\n",
       "\n",
       "/* on hover */\n",
       "#sk-container-id-1 div.sk-estimator:hover {\n",
       "  /* unfitted */\n",
       "  background-color: var(--sklearn-color-unfitted-level-2);\n",
       "}\n",
       "\n",
       "#sk-container-id-1 div.sk-estimator.fitted:hover {\n",
       "  /* fitted */\n",
       "  background-color: var(--sklearn-color-fitted-level-2);\n",
       "}\n",
       "\n",
       "/* Specification for estimator info (e.g. \"i\" and \"?\") */\n",
       "\n",
       "/* Common style for \"i\" and \"?\" */\n",
       "\n",
       ".sk-estimator-doc-link,\n",
       "a:link.sk-estimator-doc-link,\n",
       "a:visited.sk-estimator-doc-link {\n",
       "  float: right;\n",
       "  font-size: smaller;\n",
       "  line-height: 1em;\n",
       "  font-family: monospace;\n",
       "  background-color: var(--sklearn-color-background);\n",
       "  border-radius: 1em;\n",
       "  height: 1em;\n",
       "  width: 1em;\n",
       "  text-decoration: none !important;\n",
       "  margin-left: 0.5em;\n",
       "  text-align: center;\n",
       "  /* unfitted */\n",
       "  border: var(--sklearn-color-unfitted-level-1) 1pt solid;\n",
       "  color: var(--sklearn-color-unfitted-level-1);\n",
       "}\n",
       "\n",
       ".sk-estimator-doc-link.fitted,\n",
       "a:link.sk-estimator-doc-link.fitted,\n",
       "a:visited.sk-estimator-doc-link.fitted {\n",
       "  /* fitted */\n",
       "  border: var(--sklearn-color-fitted-level-1) 1pt solid;\n",
       "  color: var(--sklearn-color-fitted-level-1);\n",
       "}\n",
       "\n",
       "/* On hover */\n",
       "div.sk-estimator:hover .sk-estimator-doc-link:hover,\n",
       ".sk-estimator-doc-link:hover,\n",
       "div.sk-label-container:hover .sk-estimator-doc-link:hover,\n",
       ".sk-estimator-doc-link:hover {\n",
       "  /* unfitted */\n",
       "  background-color: var(--sklearn-color-unfitted-level-3);\n",
       "  color: var(--sklearn-color-background);\n",
       "  text-decoration: none;\n",
       "}\n",
       "\n",
       "div.sk-estimator.fitted:hover .sk-estimator-doc-link.fitted:hover,\n",
       ".sk-estimator-doc-link.fitted:hover,\n",
       "div.sk-label-container:hover .sk-estimator-doc-link.fitted:hover,\n",
       ".sk-estimator-doc-link.fitted:hover {\n",
       "  /* fitted */\n",
       "  background-color: var(--sklearn-color-fitted-level-3);\n",
       "  color: var(--sklearn-color-background);\n",
       "  text-decoration: none;\n",
       "}\n",
       "\n",
       "/* Span, style for the box shown on hovering the info icon */\n",
       ".sk-estimator-doc-link span {\n",
       "  display: none;\n",
       "  z-index: 9999;\n",
       "  position: relative;\n",
       "  font-weight: normal;\n",
       "  right: .2ex;\n",
       "  padding: .5ex;\n",
       "  margin: .5ex;\n",
       "  width: min-content;\n",
       "  min-width: 20ex;\n",
       "  max-width: 50ex;\n",
       "  color: var(--sklearn-color-text);\n",
       "  box-shadow: 2pt 2pt 4pt #999;\n",
       "  /* unfitted */\n",
       "  background: var(--sklearn-color-unfitted-level-0);\n",
       "  border: .5pt solid var(--sklearn-color-unfitted-level-3);\n",
       "}\n",
       "\n",
       ".sk-estimator-doc-link.fitted span {\n",
       "  /* fitted */\n",
       "  background: var(--sklearn-color-fitted-level-0);\n",
       "  border: var(--sklearn-color-fitted-level-3);\n",
       "}\n",
       "\n",
       ".sk-estimator-doc-link:hover span {\n",
       "  display: block;\n",
       "}\n",
       "\n",
       "/* \"?\"-specific style due to the `<a>` HTML tag */\n",
       "\n",
       "#sk-container-id-1 a.estimator_doc_link {\n",
       "  float: right;\n",
       "  font-size: 1rem;\n",
       "  line-height: 1em;\n",
       "  font-family: monospace;\n",
       "  background-color: var(--sklearn-color-background);\n",
       "  border-radius: 1rem;\n",
       "  height: 1rem;\n",
       "  width: 1rem;\n",
       "  text-decoration: none;\n",
       "  /* unfitted */\n",
       "  color: var(--sklearn-color-unfitted-level-1);\n",
       "  border: var(--sklearn-color-unfitted-level-1) 1pt solid;\n",
       "}\n",
       "\n",
       "#sk-container-id-1 a.estimator_doc_link.fitted {\n",
       "  /* fitted */\n",
       "  border: var(--sklearn-color-fitted-level-1) 1pt solid;\n",
       "  color: var(--sklearn-color-fitted-level-1);\n",
       "}\n",
       "\n",
       "/* On hover */\n",
       "#sk-container-id-1 a.estimator_doc_link:hover {\n",
       "  /* unfitted */\n",
       "  background-color: var(--sklearn-color-unfitted-level-3);\n",
       "  color: var(--sklearn-color-background);\n",
       "  text-decoration: none;\n",
       "}\n",
       "\n",
       "#sk-container-id-1 a.estimator_doc_link.fitted:hover {\n",
       "  /* fitted */\n",
       "  background-color: var(--sklearn-color-fitted-level-3);\n",
       "}\n",
       "</style><div id=\"sk-container-id-1\" class=\"sk-top-container\"><div class=\"sk-text-repr-fallback\"><pre>GridSearchCV(cv=5,\n",
       "             estimator=Pipeline(steps=[(&#x27;scaler&#x27;, StandardScaler()),\n",
       "                                       (&#x27;logistic&#x27;,\n",
       "                                        LogisticRegression(max_iter=1000))]),\n",
       "             param_grid={&#x27;logistic__C&#x27;: [0.1, 1, 10, 100],\n",
       "                         &#x27;logistic__solver&#x27;: [&#x27;liblinear&#x27;, &#x27;lbfgs&#x27;]},\n",
       "             scoring=&#x27;accuracy&#x27;)</pre><b>In a Jupyter environment, please rerun this cell to show the HTML representation or trust the notebook. <br />On GitHub, the HTML representation is unable to render, please try loading this page with nbviewer.org.</b></div><div class=\"sk-container\" hidden><div class=\"sk-item sk-dashed-wrapped\"><div class=\"sk-label-container\"><div class=\"sk-label fitted sk-toggleable\"><input class=\"sk-toggleable__control sk-hidden--visually\" id=\"sk-estimator-id-1\" type=\"checkbox\" ><label for=\"sk-estimator-id-1\" class=\"sk-toggleable__label fitted sk-toggleable__label-arrow\"><div><div>GridSearchCV</div></div><div><a class=\"sk-estimator-doc-link fitted\" rel=\"noreferrer\" target=\"_blank\" href=\"https://scikit-learn.org/1.6/modules/generated/sklearn.model_selection.GridSearchCV.html\">?<span>Documentation for GridSearchCV</span></a><span class=\"sk-estimator-doc-link fitted\">i<span>Fitted</span></span></div></label><div class=\"sk-toggleable__content fitted\"><pre>GridSearchCV(cv=5,\n",
       "             estimator=Pipeline(steps=[(&#x27;scaler&#x27;, StandardScaler()),\n",
       "                                       (&#x27;logistic&#x27;,\n",
       "                                        LogisticRegression(max_iter=1000))]),\n",
       "             param_grid={&#x27;logistic__C&#x27;: [0.1, 1, 10, 100],\n",
       "                         &#x27;logistic__solver&#x27;: [&#x27;liblinear&#x27;, &#x27;lbfgs&#x27;]},\n",
       "             scoring=&#x27;accuracy&#x27;)</pre></div> </div></div><div class=\"sk-parallel\"><div class=\"sk-parallel-item\"><div class=\"sk-item\"><div class=\"sk-label-container\"><div class=\"sk-label fitted sk-toggleable\"><input class=\"sk-toggleable__control sk-hidden--visually\" id=\"sk-estimator-id-2\" type=\"checkbox\" ><label for=\"sk-estimator-id-2\" class=\"sk-toggleable__label fitted sk-toggleable__label-arrow\"><div><div>best_estimator_: Pipeline</div></div></label><div class=\"sk-toggleable__content fitted\"><pre>Pipeline(steps=[(&#x27;scaler&#x27;, StandardScaler()),\n",
       "                (&#x27;logistic&#x27;,\n",
       "                 LogisticRegression(C=0.1, max_iter=1000, solver=&#x27;liblinear&#x27;))])</pre></div> </div></div><div class=\"sk-serial\"><div class=\"sk-item\"><div class=\"sk-serial\"><div class=\"sk-item\"><div class=\"sk-estimator fitted sk-toggleable\"><input class=\"sk-toggleable__control sk-hidden--visually\" id=\"sk-estimator-id-3\" type=\"checkbox\" ><label for=\"sk-estimator-id-3\" class=\"sk-toggleable__label fitted sk-toggleable__label-arrow\"><div><div>StandardScaler</div></div><div><a class=\"sk-estimator-doc-link fitted\" rel=\"noreferrer\" target=\"_blank\" href=\"https://scikit-learn.org/1.6/modules/generated/sklearn.preprocessing.StandardScaler.html\">?<span>Documentation for StandardScaler</span></a></div></label><div class=\"sk-toggleable__content fitted\"><pre>StandardScaler()</pre></div> </div></div><div class=\"sk-item\"><div class=\"sk-estimator fitted sk-toggleable\"><input class=\"sk-toggleable__control sk-hidden--visually\" id=\"sk-estimator-id-4\" type=\"checkbox\" ><label for=\"sk-estimator-id-4\" class=\"sk-toggleable__label fitted sk-toggleable__label-arrow\"><div><div>LogisticRegression</div></div><div><a class=\"sk-estimator-doc-link fitted\" rel=\"noreferrer\" target=\"_blank\" href=\"https://scikit-learn.org/1.6/modules/generated/sklearn.linear_model.LogisticRegression.html\">?<span>Documentation for LogisticRegression</span></a></div></label><div class=\"sk-toggleable__content fitted\"><pre>LogisticRegression(C=0.1, max_iter=1000, solver=&#x27;liblinear&#x27;)</pre></div> </div></div></div></div></div></div></div></div></div></div></div>"
      ]
     },
     "execution_count": 42,
     "metadata": {},
     "output_type": "execute_result"
    }
   ],
   "execution_count": 42
  },
  {
   "metadata": {},
   "cell_type": "markdown",
   "source": [
    "# Entrenar\n",
    "\n",
    "1. Entrenar el mejor modelo\n",
    "2. Predecir y probar con el modelo entrenado"
   ],
   "id": "2a186d260949dee0"
  },
  {
   "metadata": {
    "ExecuteTime": {
     "end_time": "2025-01-24T03:17:10.469078Z",
     "start_time": "2025-01-24T03:17:10.459781Z"
    }
   },
   "cell_type": "code",
   "source": "best_model = grid_search.best_estimator_",
   "id": "5503280ffc0190fa",
   "outputs": [],
   "execution_count": 43
  },
  {
   "metadata": {
    "ExecuteTime": {
     "end_time": "2025-01-24T03:17:46.385545Z",
     "start_time": "2025-01-24T03:17:46.375464Z"
    }
   },
   "cell_type": "code",
   "source": "y_pred = best_model.predict(X_test)",
   "id": "e2b28ca6a33ac4fd",
   "outputs": [],
   "execution_count": 44
  },
  {
   "metadata": {},
   "cell_type": "markdown",
   "source": [
    "# Métricas de evaluación\n",
    "\n",
    "1. Cálculo de la matriz de confusión\n",
    "2. Visualización de métricas"
   ],
   "id": "9621b204c25e84e8"
  },
  {
   "metadata": {
    "ExecuteTime": {
     "end_time": "2025-01-24T03:18:10.649275Z",
     "start_time": "2025-01-24T03:18:10.626035Z"
    }
   },
   "cell_type": "code",
   "source": [
    "classification_rep = classification_report(y_test, y_pred)\n",
    "conf_matrix = confusion_matrix(y_test, y_pred)"
   ],
   "id": "3a77714540257850",
   "outputs": [],
   "execution_count": 45
  },
  {
   "metadata": {
    "ExecuteTime": {
     "end_time": "2025-01-24T03:18:15.642458Z",
     "start_time": "2025-01-24T03:18:15.639366Z"
    }
   },
   "cell_type": "code",
   "source": "conf_matrix",
   "id": "5f7f98d4f0481eba",
   "outputs": [
    {
     "data": {
      "text/plain": [
       "array([[72,  0],\n",
       "       [ 2, 40]])"
      ]
     },
     "execution_count": 46,
     "metadata": {},
     "output_type": "execute_result"
    }
   ],
   "execution_count": 46
  },
  {
   "metadata": {
    "ExecuteTime": {
     "end_time": "2025-01-24T00:57:01.986007Z",
     "start_time": "2025-01-24T00:57:01.894666Z"
    }
   },
   "cell_type": "code",
   "source": [
    "y_prob = best_model.predict_proba(X_test)[:, 1]\n",
    "fpr, tpr, _ = roc_curve(y_test, y_prob)\n",
    "roc_auc = auc(fpr, tpr)\n",
    "\n",
    "print(\"Reporte de clasificación:\\n\", classification_rep)\n",
    "print(\"Matriz de confusión:\\n\", conf_matrix)\n",
    "print(\"AUC de la curva ROC:\", roc_auc)\n",
    "\n",
    "plt.figure(figsize=(8, 6))\n",
    "plt.plot(fpr, tpr, label=f\"ROC curve (AUC = {roc_auc:.2f})\", linewidth=2)\n",
    "plt.plot([0, 1], [0, 1], 'k--', linewidth=1)\n",
    "plt.xlabel(\"False Positive Rate\")\n",
    "plt.ylabel(\"True Positive Rate\")\n",
    "plt.title(\"Curva ROC\")\n",
    "plt.legend(loc=\"lower right\")\n",
    "plt.grid(alpha=0.3)\n",
    "plt.show()"
   ],
   "id": "2699062e1de1e65c",
   "outputs": [
    {
     "name": "stdout",
     "output_type": "stream",
     "text": [
      "Reporte de clasificación:\n",
      "               precision    recall  f1-score   support\n",
      "\n",
      "           0       0.97      1.00      0.99        72\n",
      "           1       1.00      0.95      0.98        42\n",
      "\n",
      "    accuracy                           0.98       114\n",
      "   macro avg       0.99      0.98      0.98       114\n",
      "weighted avg       0.98      0.98      0.98       114\n",
      "\n",
      "Matriz de confusión:\n",
      " [[72  0]\n",
      " [ 2 40]]\n",
      "AUC de la curva ROC: 0.998015873015873\n"
     ]
    },
    {
     "data": {
      "text/plain": [
       "<Figure size 800x600 with 1 Axes>"
      ],
      "image/png": "[encoded data removed]"
     },
     "metadata": {},
     "output_type": "display_data"
    }
   ],
   "execution_count": 22
  },
  {
   "metadata": {},
   "cell_type": "markdown",
   "source": "# Serializar modelo",
   "id": "781e75c474c67392"
  },
  {
   "metadata": {
    "ExecuteTime": {
     "end_time": "2025-01-24T03:25:42.980855Z",
     "start_time": "2025-01-24T03:25:42.955269Z"
    }
   },
   "cell_type": "code",
   "source": [
    "model_path = \"best_logistic_model.joblib\"\n",
    "joblib.dump(best_model, model_path)\n",
    "\n",
    "print(f\"Modelo guardado en: {model_path}\")"
   ],
   "id": "dae36b8ef6f65cfe",
   "outputs": [
    {
     "name": "stdout",
     "output_type": "stream",
     "text": [
      "Modelo guardado en: best_logistic_model.joblib\n"
     ]
    }
   ],
   "execution_count": 47
  },
  {
   "metadata": {},
   "cell_type": "code",
   "outputs": [],
   "execution_count": null,
   "source": "",
   "id": "414289265fe8d942"
  }
 ],
 "metadata": {
  "kernelspec": {
   "display_name": "Python 3",
   "language": "python",
   "name": "python3"
  },
  "language_info": {
   "codemirror_mode": {
    "name": "ipython",
    "version": 2
   },
   "file_extension": ".py",
   "mimetype": "text/x-python",
   "name": "python",
   "nbconvert_exporter": "python",
   "pygments_lexer": "ipython2",
   "version": "2.7.6"
  }
 },
 "nbformat": 4,
 "nbformat_minor": 5
}
